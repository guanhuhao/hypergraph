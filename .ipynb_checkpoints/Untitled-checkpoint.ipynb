{
 "cells": [
  {
   "cell_type": "code",
   "execution_count": 8,
   "id": "aebded91",
   "metadata": {},
   "outputs": [],
   "source": [
    "import networkx as nx\n",
    "dic = {}\n",
    "edges=[]\n",
    "hyper_node = {}\n",
    "index = 0\n",
    "with open(\"./wikispeedia_paths-and-graph/links.tsv\") as f:\n",
    "    for line in f:\n",
    "        if(line[0] == '#' or line == \"\\n\") : continue\n",
    "        a,b = line[0:-1].split('\\t')\n",
    "        if dic.get(a) == None : \n",
    "            dic[a] = index\n",
    "            index += 1\n",
    "        if dic.get(b) == None : \n",
    "            dic[b] = index\n",
    "            index += 1\n",
    "        if hyper_node.get(dic[b]) == None :\n",
    "            hyper_node[dic[b]] = []\n",
    "        hyper_node[dic[b]].append(dic[a])\n",
    "        edges.append((dic[a],dic[b]))\n",
    "#         break\n",
    "    "
   ]
  },
  {
   "cell_type": "code",
   "execution_count": 16,
   "id": "7e74be9a",
   "metadata": {},
   "outputs": [],
   "source": [
    "import random as rand\n",
    "import matplotlib.pyplot as plt # 画曲线图\n",
    "nodes = [i for i in range(0,index)]\n",
    "# rand.shuffle(nodes)\n",
    "with open(\"./vertex_stream.txt\",\"w\") as f:\n",
    "    f.write(\"# node_id | number of coverd hyper edge| hyper edge id|\\n\\n\")\n",
    "    for i in hyper_node.keys():\n",
    "        line = str(i)+\" \"+str(len(hyper_node[i]));\n",
    "        for edge in hyper_node[i]: line += \" \"+str(edge)\n",
    "        f.write(line+\"\\n\")\n",
    "# node_num = 10\n",
    "# check = {}\n",
    "# for i in range(index) : check[i] = 0\n",
    "# for i in range(0,node_num) : check[i] = 1\n",
    "\n",
    "# g = nx.DiGraph()\n",
    "# cnt = 0\n",
    "# print(\"begin\")\n",
    "# for i in edges:\n",
    "#     u,v = i\n",
    "#     if check[u] != 1 : continue\n",
    "#     if check[v] != 1 : continue\n",
    "#     g.add_edge(u,v)\n",
    "#     cnt += 1\n",
    "# print(\"finished \" +str(cnt))\n",
    "\n",
    "# fig, ax = plt.subplots()\n",
    "# nx.draw(g ,ax=ax)\n",
    "# plt.show()"
   ]
  },
  {
   "cell_type": "code",
   "execution_count": 20,
   "id": "1eacf726",
   "metadata": {},
   "outputs": [
    {
     "name": "stdout",
     "output_type": "stream",
     "text": [
      "119882\n",
      "4135\n"
     ]
    }
   ],
   "source": [
    "print(len(edges))\n",
    "print(len(hyper_node))"
   ]
  },
  {
   "cell_type": "code",
   "execution_count": null,
   "id": "d22196c3",
   "metadata": {},
   "outputs": [],
   "source": [
    "cnt = 1\n",
    "for i in range(1,len(edges)):\n",
    "    if(edges[i-1][0] != edges[i][0]) : cnt += 1\n",
    "        \n",
    "cnt"
   ]
  }
 ],
 "metadata": {
  "hide_input": false,
  "kernelspec": {
   "display_name": "Mygraph",
   "language": "python",
   "name": "mygraph"
  },
  "language_info": {
   "codemirror_mode": {
    "name": "ipython",
    "version": 3
   },
   "file_extension": ".py",
   "mimetype": "text/x-python",
   "name": "python",
   "nbconvert_exporter": "python",
   "pygments_lexer": "ipython3",
   "version": "3.6.13"
  }
 },
 "nbformat": 4,
 "nbformat_minor": 5
}
