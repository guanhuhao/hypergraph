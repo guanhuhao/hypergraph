{
 "cells": [
  {
   "cell_type": "code",
   "execution_count": 30,
   "id": "8fefa9a0",
   "metadata": {
    "code_folding": [
     3,
     17,
     57,
     82
    ]
   },
   "outputs": [],
   "source": [
    "import random as random\n",
    "import time as time\n",
    "import heapq as heapq\n",
    "import matplotlib.pyplot as plt # 画曲线图\n",
    "import numpy as np #拟合直线\n",
    "\n",
    "class HyperNode:\n",
    "    def __init__(self,id,degree,edges):\n",
    "        self.id = id\n",
    "        self.degree = degree\n",
    "        self.edges = edges\n",
    "\n",
    "    def __lt__(self,other):\n",
    "        return self.id<other.id\n",
    "    \n",
    "    def print(self):\n",
    "        print(\"id:\" + str(self.id))\n",
    "        print(\"degree:\" + str(self.degree))\n",
    "        print(\"edges: \"+ str(self.edges))\n",
    "\n",
    "class HyperEdge:\n",
    "    def __init__(self,id,degree,nodes):\n",
    "        self.id = id\n",
    "        self.degree = degree \n",
    "        self.nodes = nodes\n",
    "        \n",
    "    def print(self):\n",
    "        print(\"id:\" + str(self.id))\n",
    "        print(\"degree:\" + str(self.degree))\n",
    "        print(\"edges: \"+ str(self.nodes))\n",
    "\n",
    "# # return: mp_node,mp_edge\n",
    "# def load_data(path):\n",
    "#     # input:\n",
    "#     # path: data set path\n",
    "    \n",
    "#     # return: \n",
    "#     # mp_node: dict of partition node n_id:HyperNode\n",
    "#     # mp_edge: dict of partition edge e_id:HyperEdge\n",
    "    \n",
    "#     mp_node = {}\n",
    "#     mp_edge = {}\n",
    "#     with open(path,'r') as f:\n",
    "#         for line in f:\n",
    "#             if(line[0]=='#' or line=='\\n') : continue\n",
    "#             data = [int(i) for i in line[0:-1].split(\" \")]\n",
    "#             n_id = data[0]\n",
    "#             n_degree = data[1]\n",
    "#             n_edges = set(data[2:])\n",
    "#             if mp_node.get(n_id) == None : \n",
    "#                 mp_node[n_id] = HyperNode(n_id,n_degree,n_edges)\n",
    "#                 tmp[n_id] = HyperNode(n_id,n_degree,n_edges)\n",
    "#             for edge in n_edges:\n",
    "#                 if mp_edge.get(edge) == None:\n",
    "#                     mp_edge[edge] = HyperEdge(edge,0,set())\n",
    "#                 mp_edge[edge].degree += 1\n",
    "#                 mp_edge[edge].nodes.add(n_id)\n",
    "#     return mp_node,mp_edge\n",
    "\n",
    "# return: mp_node,mp_edge\n",
    "def load_data(path):\n",
    "    # input:\n",
    "    # path: data set path\n",
    "    \n",
    "    # return: \n",
    "    # mp_node: dict of partition node n_id:HyperNode\n",
    "    # mp_edge: dict of partition edge e_id:HyperEdge\n",
    "    \n",
    "    mp_node = {}\n",
    "    mp_edge = {}\n",
    "    with open(path,'r') as f:\n",
    "        for line in f:\n",
    "#             print(line[0:-1].split(\" \"))\n",
    "            n_id,e_id = line[0:-1].split(\" \")\n",
    "            if mp_node.get(n_id) == None : \n",
    "                mp_node[n_id] = HyperNode(n_id,0,set())\n",
    "            if mp_edge.get(e_id) == None :\n",
    "                mp_edge[e_id] = HyperEdge(e_id,0,set())\n",
    "                \n",
    "            mp_node[n_id].degree += 1\n",
    "            mp_edge[e_id].degree += 1\n",
    "            mp_node[n_id].edges.add(e_id)\n",
    "            mp_edge[e_id].nodes.add(n_id)\n",
    "    return mp_node,mp_edge\n",
    "\n",
    "# return: None\n",
    "def recoder(part_node,mp_node,mp_edge,path):\n",
    "    # input:\n",
    "    # part_node: result of partition node\n",
    "    # mp_node: dictionary of hyper node \n",
    "    # mp_edge: dictionary of hyper edge\n",
    "    # path: path to save record result\n",
    "    \n",
    "    dic = {}\n",
    "    tot = 0\n",
    "    for par in part_node:\n",
    "        for node in par:\n",
    "            dic[node.id] = len(dic)\n",
    "\n",
    "    print(path+\"/record.txt\")\n",
    "    with open(path+\"/record.txt\",'w') as f:\n",
    "        for par in part_node:\n",
    "            for node in par:\n",
    "                for edge in node.edges:\n",
    "                    f.write(str(dic[node.id])+\" \"+str(edge)+\"\\n\")\n",
    "# return: part_node,part_edge\n",
    "\n",
    "def solve(p,mp_node,mp_edge,prop = 1.0,k=1,shield_heavy_edge = 1e9 ,buffer_fac = 5,debug = False):\n",
    "    # input : \n",
    "    # p: partition number \n",
    "    # mp_node: dict of partition nodes  \n",
    "    # mp_edge: dict of partition edges\n",
    "    # prob: accelerate factory to add node\n",
    "    # k: select topk node at once\n",
    "    # shield_heavy_node: filter huge edge \n",
    "    # debug: print debug infomation\n",
    "    \n",
    "    # return :\n",
    "    # part_node: list of partition node set \n",
    "    # part_edge: list of partition edge set\n",
    "    \n",
    "    random.seed(19990320)\n",
    "    node_number = len(mp_node)\n",
    "    cur_p = 0\n",
    "    maxi_cap = node_number/p + 1\n",
    "    part_node = [set() for i in range(p)]\n",
    "    part_edge = [set() for i in range(p)]\n",
    "    mp_eval = {i:0 for i in mp_node.keys()}\n",
    "    \n",
    "    ave_hyperedge_degree = 0\n",
    "    edge_degree_list = set()\n",
    "    for edge in mp_edge.values():   \n",
    "        ave_hyperedge_degree += edge.degree/len(mp_edge)\n",
    "        edge_degree_list.add(edge.degree)\n",
    "#     print(edge_degree_list)\n",
    "    edge_degree_list = list(edge_degree_list)\n",
    "    edge_degree_list.sort()\n",
    "#     print(edge_degree_list)\n",
    "#     print(len(mp_edge)/2)\n",
    "#     print(\"2*ave:\",ave_hyperedge_degree,\" mid:\",edge_degree_list[int(len(edge_degree_list)/2)])\n",
    "    ave_hyperedge_degree = edge_degree_list[int(len(edge_degree_list)/2)]\n",
    "\n",
    "    cnt = 0\n",
    "    select_node = []\n",
    "    heap_size = buffer_fac*k\n",
    "    check = set()\n",
    "    while len(mp_node)!=0:\n",
    "        cnt += 1\n",
    "        if cnt % 100 == 0 and debug : print (cnt)\n",
    "            \n",
    "        add_node = []\n",
    "        \n",
    "        if len(select_node) <= k:\n",
    "            check.clear()\n",
    "            select_node = []\n",
    "            for node in mp_node.values():   \n",
    "                if mp_eval[node.id]/node.degree >= prop:\n",
    "                    add_node.append(node)\n",
    "#                     check.add(node)\n",
    "                    continue\n",
    "                if  len(select_node) < heap_size:\n",
    "                    heapq.heappush(select_node,(mp_eval[node.id],node))\n",
    "                    check.add(node)\n",
    "                else :\n",
    "                    if mp_eval[node.id] > select_node[0][0] :\n",
    "                        rank,remove_node = heapq.heappop(select_node)\n",
    "                        check.remove(remove_node)\n",
    "                        heapq.heappush(select_node,(mp_eval[node.id],node))\n",
    "                        check.add(node)\n",
    "        \n",
    "        for i in range(min(k,len(select_node))):\n",
    "            rank,node = heapq.heappop(select_node)\n",
    "            check.remove(node)\n",
    "            add_node.append(node)\n",
    "\n",
    "        for par_node in add_node:\n",
    "            if len(part_node[cur_p]) >= maxi_cap :\n",
    "                break\n",
    "            part_node[cur_p].add(par_node)\n",
    "            for edge in par_node.edges:\n",
    "                if edge not in part_edge[cur_p]:\n",
    "                    part_edge[cur_p].add(edge)\n",
    "                    if mp_edge[edge].degree > shield_heavy_edge: continue\n",
    "                    for node in mp_edge[edge].nodes:\n",
    "                        if mp_node.get(node) == None : continue\n",
    "                        mp_eval[node] += 1\n",
    "#                         print(len(select_node))\n",
    "            del mp_node[par_node.id] \n",
    "#             check.remove(par_node)\n",
    "        select_node = [(mp_eval[node.id],node)for rank,node in select_node]\n",
    "        heapq.heapify(select_node)\n",
    "\n",
    "        if len(part_node[cur_p]) >= maxi_cap : # next partition pre-process\n",
    "            for key in mp_eval.keys():\n",
    "                mp_eval[key] = 0\n",
    "            cur_p += 1   \n",
    "            \n",
    "    return part_node,part_edge\n",
    "\n",
    "\n",
    "\n",
    "def degree_distribute(mp_node,show = True,logx=True,logy=True,coeff = True,cumulation = True): # draw degree distribute graph \n",
    "    degree = mp_node\n",
    "    dic = {j.degree:0 for i,j in degree.items()}\n",
    "    \n",
    "    for i,j in degree.items(): dic[j.degree] += 1\n",
    "    \n",
    "    ls = sorted(dic.items(), key = lambda x:(x[0],x[1]))\n",
    "        \n",
    "    x = [i[0] for i in ls]\n",
    "    y = [i[1] for i in ls]\n",
    "\n",
    "    if x[0] == 0:\n",
    "        x = x[1:-1]\n",
    "        y = y[1:-1]\n",
    "    \n",
    "    if cumulation == True : \n",
    "        cnt = sum(y)\n",
    "        for i in range(len(x)):\n",
    "            cnt -= y[i]\n",
    "            y[i] += cnt\n",
    "\n",
    "    if show == True :\n",
    "        plt.plot(x,y, 'o',color='b')\n",
    "        if logy : plt.yscale('log')\n",
    "        if logx : plt.xscale('log')\n",
    "        \n",
    "\n",
    "    if coeff == True : \n",
    "\n",
    "        xx = [np.log2(i) for i in x]\n",
    "        yy = [np.log2(i) for i in y]\n",
    "        \n",
    "        k,b = np.polyfit(xx, yy, 1)\n",
    "#         lg = yy[0]/xx[-1]\n",
    "#         lg = 1/lg\n",
    "        print(\"alpha: \"+str(k))\n",
    "        \n",
    "        xx = x\n",
    "        yy = [(i**k)*(2**b) for i in xx]\n",
    "        plt.plot(xx,yy,color='r')\n",
    "    plt.show()\n",
    "\n",
    "    return [(x[i],y[i]) for i in range(len(x))]\n"
   ]
  },
  {
   "cell_type": "code",
   "execution_count": 31,
   "id": "3b2f813f",
   "metadata": {},
   "outputs": [
    {
     "name": "stdout",
     "output_type": "stream",
     "text": [
      "alpha: -1.733355505918805\n"
     ]
    },
    {
     "data": {
      "image/png": "[encoded data removed]",
      "text/plain": [
       "<Figure size 432x288 with 1 Axes>"
      ]
     },
     "metadata": {
      "needs_background": "light"
     },
     "output_type": "display_data"
    },
    {
     "name": "stdout",
     "output_type": "stream",
     "text": [
      "1   28988\n",
      "2   28843\n",
      "3   28013\n",
      "4   27322\n",
      "5   26824\n",
      "6   26459\n",
      "7   25697\n",
      "8   24992\n",
      "9   24154\n",
      "10   23976\n",
      "11   23435\n",
      "12   23567\n",
      "13   23172\n",
      "14   22739\n",
      "15   22481\n",
      "16   22312\n",
      "17   22185\n",
      "18   21816\n",
      "19   21631\n",
      "20   21328\n",
      "21   21577\n",
      "22   21045\n",
      "23   20783\n",
      "24   20608\n",
      "25   20717\n",
      "26   20823\n",
      "27   20590\n",
      "28   20712\n",
      "29   20440\n",
      "30   20234\n",
      "31   20251\n",
      "32   20278\n",
      "33   20245\n",
      "34   20090\n",
      "35   20106\n",
      "36   20267\n",
      "37   19960\n",
      "38   20139\n",
      "39   20084\n",
      "40   20054\n",
      "41   19882\n",
      "42   19887\n",
      "43   19913\n",
      "44   19623\n",
      "45   19827\n",
      "46   19791\n",
      "47   19756\n",
      "48   19444\n",
      "49   19757\n",
      "50   19560\n",
      "51   19736\n",
      "52   19423\n",
      "53   19657\n",
      "54   19558\n",
      "55   19506\n",
      "56   19686\n",
      "57   19468\n",
      "58   19654\n",
      "59   19568\n",
      "60   19466\n",
      "61   19389\n",
      "62   19545\n",
      "63   19508\n",
      "64   19543\n",
      "65   19536\n",
      "66   19364\n",
      "67   19532\n",
      "68   19627\n",
      "69   19627\n",
      "70   19730\n",
      "71   19836\n",
      "72   19701\n",
      "73   19556\n",
      "74   19742\n",
      "75   19694\n",
      "76   19399\n"
     ]
    },
    {
     "ename": "KeyboardInterrupt",
     "evalue": "",
     "output_type": "error",
     "traceback": [
      "\u001b[0;31m---------------------------------------------------------------------------\u001b[0m",
      "\u001b[0;31mKeyboardInterrupt\u001b[0m                         Traceback (most recent call last)",
      "\u001b[0;32m<ipython-input-31-20e1da697a59>\u001b[0m in \u001b[0;36m<module>\u001b[0;34m\u001b[0m\n\u001b[1;32m     15\u001b[0m     \u001b[0mpart_node\u001b[0m\u001b[0;34m,\u001b[0m\u001b[0mpart_edge\u001b[0m \u001b[0;34m=\u001b[0m \u001b[0msolve\u001b[0m\u001b[0;34m(\u001b[0m\u001b[0mp\u001b[0m\u001b[0;34m,\u001b[0m\u001b[0mmp_node\u001b[0m\u001b[0;34m,\u001b[0m\u001b[0mmp_edge\u001b[0m\u001b[0;34m,\u001b[0m\u001b[0mprop\u001b[0m\u001b[0;34m,\u001b[0m\u001b[0mk\u001b[0m\u001b[0;34m,\u001b[0m\u001b[0mbuffer_fac\u001b[0m \u001b[0;34m=\u001b[0m \u001b[0mbuffer_fac\u001b[0m\u001b[0;34m,\u001b[0m\u001b[0mshield_heavy_edge\u001b[0m \u001b[0;34m=\u001b[0m \u001b[0mshield_heavy_edge\u001b[0m\u001b[0;34m)\u001b[0m\u001b[0;34m\u001b[0m\u001b[0;34m\u001b[0m\u001b[0m\n\u001b[1;32m     16\u001b[0m     \u001b[0mtime_end\u001b[0m \u001b[0;34m=\u001b[0m \u001b[0mtime\u001b[0m\u001b[0;34m.\u001b[0m\u001b[0mtime\u001b[0m\u001b[0;34m(\u001b[0m\u001b[0;34m)\u001b[0m\u001b[0;34m\u001b[0m\u001b[0;34m\u001b[0m\u001b[0m\n\u001b[0;32m---> 17\u001b[0;31m     \u001b[0mmp_node\u001b[0m\u001b[0;34m,\u001b[0m\u001b[0mmp_edge\u001b[0m \u001b[0;34m=\u001b[0m \u001b[0mload_data\u001b[0m\u001b[0;34m(\u001b[0m\u001b[0mpath\u001b[0m\u001b[0;34m)\u001b[0m\u001b[0;34m\u001b[0m\u001b[0;34m\u001b[0m\u001b[0m\n\u001b[0m\u001b[1;32m     18\u001b[0m     \u001b[0;31m# recoder(part_node,mp_node,mp_edge,\"./data/wiki\")\u001b[0m\u001b[0;34m\u001b[0m\u001b[0;34m\u001b[0m\u001b[0;34m\u001b[0m\u001b[0m\n\u001b[1;32m     19\u001b[0m     \u001b[0mk_1\u001b[0m \u001b[0;34m=\u001b[0m \u001b[0msum\u001b[0m\u001b[0;34m(\u001b[0m\u001b[0;34m[\u001b[0m\u001b[0mlen\u001b[0m\u001b[0;34m(\u001b[0m\u001b[0mi\u001b[0m\u001b[0;34m)\u001b[0m \u001b[0;32mfor\u001b[0m \u001b[0mi\u001b[0m \u001b[0;32min\u001b[0m \u001b[0mpart_edge\u001b[0m\u001b[0;34m]\u001b[0m\u001b[0;34m)\u001b[0m \u001b[0;34m-\u001b[0m \u001b[0mlen\u001b[0m\u001b[0;34m(\u001b[0m\u001b[0mmp_edge\u001b[0m\u001b[0;34m)\u001b[0m\u001b[0;34m\u001b[0m\u001b[0;34m\u001b[0m\u001b[0m\n",
      "\u001b[0;32m<ipython-input-30-d2f5478ae0e5>\u001b[0m in \u001b[0;36mload_data\u001b[0;34m(path)\u001b[0m\n\u001b[1;32m     75\u001b[0m             \u001b[0;32mif\u001b[0m \u001b[0mmp_node\u001b[0m\u001b[0;34m.\u001b[0m\u001b[0mget\u001b[0m\u001b[0;34m(\u001b[0m\u001b[0mn_id\u001b[0m\u001b[0;34m)\u001b[0m \u001b[0;34m==\u001b[0m \u001b[0;32mNone\u001b[0m \u001b[0;34m:\u001b[0m\u001b[0;34m\u001b[0m\u001b[0;34m\u001b[0m\u001b[0m\n\u001b[1;32m     76\u001b[0m                 \u001b[0mmp_node\u001b[0m\u001b[0;34m[\u001b[0m\u001b[0mn_id\u001b[0m\u001b[0;34m]\u001b[0m \u001b[0;34m=\u001b[0m \u001b[0mHyperNode\u001b[0m\u001b[0;34m(\u001b[0m\u001b[0mn_id\u001b[0m\u001b[0;34m,\u001b[0m\u001b[0;36m0\u001b[0m\u001b[0;34m,\u001b[0m\u001b[0mset\u001b[0m\u001b[0;34m(\u001b[0m\u001b[0;34m)\u001b[0m\u001b[0;34m)\u001b[0m\u001b[0;34m\u001b[0m\u001b[0;34m\u001b[0m\u001b[0m\n\u001b[0;32m---> 77\u001b[0;31m             \u001b[0;32mif\u001b[0m \u001b[0mmp_edge\u001b[0m\u001b[0;34m.\u001b[0m\u001b[0mget\u001b[0m\u001b[0;34m(\u001b[0m\u001b[0me_id\u001b[0m\u001b[0;34m)\u001b[0m \u001b[0;34m==\u001b[0m \u001b[0;32mNone\u001b[0m \u001b[0;34m:\u001b[0m\u001b[0;34m\u001b[0m\u001b[0;34m\u001b[0m\u001b[0m\n\u001b[0m\u001b[1;32m     78\u001b[0m                 \u001b[0mmp_edge\u001b[0m\u001b[0;34m[\u001b[0m\u001b[0me_id\u001b[0m\u001b[0;34m]\u001b[0m \u001b[0;34m=\u001b[0m \u001b[0mHyperEdge\u001b[0m\u001b[0;34m(\u001b[0m\u001b[0me_id\u001b[0m\u001b[0;34m,\u001b[0m\u001b[0;36m0\u001b[0m\u001b[0;34m,\u001b[0m\u001b[0mset\u001b[0m\u001b[0;34m(\u001b[0m\u001b[0;34m)\u001b[0m\u001b[0;34m)\u001b[0m\u001b[0;34m\u001b[0m\u001b[0;34m\u001b[0m\u001b[0m\n\u001b[1;32m     79\u001b[0m \u001b[0;34m\u001b[0m\u001b[0m\n",
      "\u001b[0;31mKeyboardInterrupt\u001b[0m: "
     ]
    }
   ],
   "source": [
    "path = \"./data/github/github.txt\"\n",
    "# path = \"./data/wiki/wiki.txt\"\n",
    "p = 16\n",
    "mp_node,mp_edge = load_data(path)\n",
    "ls = degree_distribute(mp_node)\n",
    "for turn in range(1,10):\n",
    "#     p*=2\n",
    "    mp_node,mp_edge = load_data(path)\n",
    "#     degree_distribute(mp_node)\n",
    "    time_beg = time.time()\n",
    "    prop = turn * 0.1\n",
    "    k = 10\n",
    "    buffer_fac = 1\n",
    "    shield_heavy_edge = 1E9\n",
    "    part_node,part_edge = solve(p,mp_node,mp_edge,prop,k,buffer_fac = buffer_fac,shield_heavy_edge = shield_heavy_edge)  \n",
    "    time_end = time.time()\n",
    "    mp_node,mp_edge = load_data(path)\n",
    "    # recoder(part_node,mp_node,mp_edge,\"./data/wiki\")\n",
    "    k_1 = sum([len(i) for i in part_edge]) - len(mp_edge)\n",
    "#     print(turn,\" \",k_1)\n",
    "    print(\"parameter:\\n\",\"p:\",p,\" prop:\",\"%.2f\"%prop,\" k:\",k,\" buffer_fac:\",buffer_fac,\n",
    "          \" sheld_size:\",shield_heavy_edge)\n",
    "    print(\"result:\\n\",\"runtime:\",int((time_end-time_beg)*1000),\"ms k-1:\",k_1)\n",
    "    print(\"---------------------------------------\")\n",
    "#  runtime: 11999 ms k-1: 27102\n",
    "    "
   ]
  },
  {
   "cell_type": "code",
   "execution_count": 62,
   "id": "aa6411ce",
   "metadata": {},
   "outputs": [
    {
     "name": "stdout",
     "output_type": "stream",
     "text": [
      "alpha: -1.6363240049196743\n"
     ]
    },
    {
     "data": {
      "image/png": "[encoded data removed]",
      "text/plain": [
       "<Figure size 432x288 with 1 Axes>"
      ]
     },
     "metadata": {
      "needs_background": "light"
     },
     "output_type": "display_data"
    },
    {
     "data": {
      "image/png": "[encoded data removed]",
      "text/plain": [
       "<Figure size 432x288 with 1 Axes>"
      ]
     },
     "metadata": {
      "needs_background": "light"
     },
     "output_type": "display_data"
    },
    {
     "data": {
      "image/png": "[encoded data removed]",
      "text/plain": [
       "<Figure size 432x288 with 1 Axes>"
      ]
     },
     "metadata": {
      "needs_background": "light"
     },
     "output_type": "display_data"
    }
   ],
   "source": [
    "def test_topk():\n",
    "    x = []\n",
    "    y = []\n",
    "    t = []\n",
    "#     path = \"./data/wiki/wiki.txt\"\n",
    "    path = \"./data/github/github.txt\"\n",
    "    p = 16\n",
    "    mp_node,mp_edge = load_data(path)\n",
    "    ls = degree_distribute(mp_node)\n",
    "    for turn in range(1,21):\n",
    "        mp_node,mp_edge = load_data(path)\n",
    "    #     degree_distribute(mp_node)\n",
    "        time_beg = time.time()\n",
    "        prop = 1.1\n",
    "        k = turn\n",
    "        buffer_fac = 1\n",
    "        shield_heavy_edge = 1e9\n",
    "        part_node,part_edge = solve(p,mp_node,mp_edge,prop,k,buffer_fac = buffer_fac,shield_heavy_edge = shield_heavy_edge)  \n",
    "        time_end = time.time()\n",
    "        mp_node,mp_edge = load_data(path)\n",
    "        # recoder(part_node,mp_node,mp_edge,\"./data/wiki\")\n",
    "        k_1 = sum([len(i) for i in part_edge]) - len(mp_edge)\n",
    "#         print(turn,\" \",k_1)\n",
    "        x.append(turn)\n",
    "        y.append(k_1)\n",
    "        t.append(int((time_end-time_beg)*1000))\n",
    "    plt.plot(x,y,color='r')\n",
    "    plt.show()\n",
    "    plt.plot(x,t,color='r')\n",
    "    plt.show()\n",
    "    return x,y,t\n",
    "    \n",
    "x,y,t = test_topk()"
   ]
  },
  {
   "cell_type": "code",
   "execution_count": 61,
   "id": "af8a300b",
   "metadata": {},
   "outputs": [
    {
     "data": {
      "image/png": "[encoded data removed]",
      "text/plain": [
       "<Figure size 432x288 with 1 Axes>"
      ]
     },
     "metadata": {
      "needs_background": "light"
     },
     "output_type": "display_data"
    },
    {
     "data": {
      "image/png": "[encoded data removed]",
      "text/plain": [
       "<Figure size 432x288 with 1 Axes>"
      ]
     },
     "metadata": {
      "needs_background": "light"
     },
     "output_type": "display_data"
    }
   ],
   "source": [
    "plt.plot(x,y,color='r')\n",
    "plt.show()\n",
    "plt.plot(x,t,color='r')\n",
    "plt.show()"
   ]
  },
  {
   "cell_type": "code",
   "execution_count": 50,
   "id": "3f32253e",
   "metadata": {},
   "outputs": [
    {
     "name": "stdout",
     "output_type": "stream",
     "text": [
      "alpha: -1.733355505918805\n"
     ]
    },
    {
     "data": {
      "image/png": "[encoded data removed]",
      "text/plain": [
       "<Figure size 432x288 with 1 Axes>"
      ]
     },
     "metadata": {
      "needs_background": "light"
     },
     "output_type": "display_data"
    },
    {
     "name": "stdout",
     "output_type": "stream",
     "text": [
      "1\n",
      "2\n",
      "3\n",
      "4\n",
      "5\n",
      "6\n",
      "7\n",
      "8\n",
      "9\n",
      "10\n",
      "11\n",
      "12\n",
      "13\n",
      "14\n",
      "15\n",
      "16\n",
      "17\n",
      "18\n",
      "19\n"
     ]
    },
    {
     "data": {
      "image/png": "[encoded data removed]",
      "text/plain": [
       "<Figure size 432x288 with 1 Axes>"
      ]
     },
     "metadata": {
      "needs_background": "light"
     },
     "output_type": "display_data"
    },
    {
     "data": {
      "image/png": "[encoded data removed]",
      "text/plain": [
       "<Figure size 432x288 with 1 Axes>"
      ]
     },
     "metadata": {
      "needs_background": "light"
     },
     "output_type": "display_data"
    }
   ],
   "source": [
    "def test_shield():\n",
    "    x = []\n",
    "    y = []\n",
    "    path = \"./data/wiki/wiki.txt\"\n",
    "#     path = \"./data/github/github.txt\"\n",
    "    p = 16\n",
    "    mp_node,mp_edge = load_data(path)\n",
    "    ls = degree_distribute(mp_node)\n",
    "    for turn in range(1,20):\n",
    "        print(turn)\n",
    "#         p*=2\n",
    "        mp_node,mp_edge = load_data(path)\n",
    "    #     degree_distribute(mp_node)\n",
    "        time_beg = time.time()\n",
    "        prop = 1.1\n",
    "        k = 10\n",
    "        buffer_fac = 1\n",
    "        shield_heavy_edge = turn\n",
    "        part_node,part_edge = solve(p,mp_node,mp_edge,prop,k,buffer_fac = buffer_fac,shield_heavy_edge = shield_heavy_edge)  \n",
    "        time_end = time.time()\n",
    "        mp_node,mp_edge = load_data(path)\n",
    "        # recoder(part_node,mp_node,mp_edge,\"./data/wiki\")\n",
    "        k_1 = sum([len(i) for i in part_edge]) - len(mp_edge)\n",
    "#         print(turn,\" \",k_1)\n",
    "        x.append(turn)\n",
    "        y.append(k_1)\n",
    "    plt.plot(x,y,color='r')\n",
    "    plt.show()\n",
    "    return x,y,t\n",
    "    \n",
    "x,y = test_shield()"
   ]
  },
  {
   "cell_type": "code",
   "execution_count": 23,
   "id": "2d6c327a",
   "metadata": {},
   "outputs": [
    {
     "name": "stdout",
     "output_type": "stream",
     "text": [
      "edges:56433\n",
      "nodes:5653\n",
      "277912\n",
      "edges:25730\n",
      "nodes:5653\n",
      "59056\n",
      "edges:15618\n",
      "nodes:5653\n",
      "28610\n",
      "edges:7641\n",
      "nodes:5653\n",
      "14208\n",
      "edges:7349\n",
      "nodes:5653\n",
      "12455\n",
      "edges:7531\n",
      "nodes:5653\n",
      "11444\n",
      "edges:7756\n",
      "nodes:5653\n",
      "10089\n",
      "edges:8023\n",
      "nodes:5653\n",
      "9310\n",
      "edges:7767\n",
      "nodes:5653\n",
      "8748\n",
      "edges:7984\n",
      "nodes:5642\n",
      "8405\n"
     ]
    }
   ],
   "source": [
    "tmp_node = [set() for i in range(p)]\n",
    "\n",
    "for par in range(len(part_edge)):\n",
    "    for i in part_node[par]: tmp_node[par].add(i.id)\n",
    "    cnt = 0\n",
    "    print(\"edges:\"+str(len(part_edge[par])))\n",
    "    print(\"nodes:\"+str(len(part_node[par])))\n",
    "    for edge in part_edge[par]:\n",
    "        for node in mp_edge[edge].nodes:\n",
    "#             print(node)\n",
    "#             print(mp_node[node])\n",
    "            if node in tmp_node[par]:\n",
    "                cnt += 1\n",
    "    cur_p += 1\n",
    "    print(cnt)\n",
    "    "
   ]
  },
  {
   "cell_type": "code",
   "execution_count": 4,
   "id": "599d7a21",
   "metadata": {},
   "outputs": [
    {
     "name": "stdout",
     "output_type": "stream",
     "text": [
      "30965\n"
     ]
    }
   ],
   "source": [
    "k_1 = sum([len(i) for i in part_edge]) - edge_number\n",
    "print(k_1)"
   ]
  },
  {
   "cell_type": "code",
   "execution_count": null,
   "id": "e2ba2865",
   "metadata": {},
   "outputs": [],
   "source": []
  }
 ],
 "metadata": {
  "hide_input": false,
  "kernelspec": {
   "display_name": "Mygraph",
   "language": "python",
   "name": "mygraph"
  },
  "language_info": {
   "codemirror_mode": {
    "name": "ipython",
    "version": 3
   },
   "file_extension": ".py",
   "mimetype": "text/x-python",
   "name": "python",
   "nbconvert_exporter": "python",
   "pygments_lexer": "ipython3",
   "version": "3.6.13"
  }
 },
 "nbformat": 4,
 "nbformat_minor": 5
}
