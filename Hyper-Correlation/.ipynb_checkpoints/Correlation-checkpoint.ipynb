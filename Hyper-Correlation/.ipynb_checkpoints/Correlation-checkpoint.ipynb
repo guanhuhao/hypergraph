{
 "cells": [
  {
   "cell_type": "code",
   "execution_count": 6,
   "id": "99ae0b19",
   "metadata": {},
   "outputs": [
    {
     "ename": "AttributeError",
     "evalue": "'list' object has no attribute 'size'",
     "output_type": "error",
     "traceback": [
      "\u001b[0;31m---------------------------------------------------------------------------\u001b[0m",
      "\u001b[0;31mAttributeError\u001b[0m                            Traceback (most recent call last)",
      "\u001b[0;32m<ipython-input-6-0bb6bea91015>\u001b[0m in \u001b[0;36m<module>\u001b[0;34m\u001b[0m\n\u001b[1;32m     19\u001b[0m         \u001b[0;32mif\u001b[0m \u001b[0mlen\u001b[0m\u001b[0;34m(\u001b[0m\u001b[0muni\u001b[0m\u001b[0;34m)\u001b[0m \u001b[0;34m==\u001b[0m \u001b[0;36m0\u001b[0m \u001b[0;34m:\u001b[0m \u001b[0;32mcontinue\u001b[0m\u001b[0;34m\u001b[0m\u001b[0;34m\u001b[0m\u001b[0m\n\u001b[1;32m     20\u001b[0m         \u001b[0;32melse\u001b[0m \u001b[0;34m:\u001b[0m \u001b[0muni_size\u001b[0m\u001b[0;34m.\u001b[0m\u001b[0mappend\u001b[0m\u001b[0;34m(\u001b[0m\u001b[0mlen\u001b[0m\u001b[0;34m(\u001b[0m\u001b[0muni\u001b[0m\u001b[0;34m)\u001b[0m\u001b[0;34m/\u001b[0m\u001b[0mmin\u001b[0m\u001b[0;34m(\u001b[0m\u001b[0mlen\u001b[0m\u001b[0;34m(\u001b[0m\u001b[0mv1\u001b[0m\u001b[0;34m)\u001b[0m\u001b[0;34m,\u001b[0m\u001b[0mlen\u001b[0m\u001b[0;34m(\u001b[0m\u001b[0mv2\u001b[0m\u001b[0;34m)\u001b[0m\u001b[0;34m)\u001b[0m\u001b[0;34m)\u001b[0m\u001b[0;34m\u001b[0m\u001b[0;34m\u001b[0m\u001b[0m\n\u001b[0;32m---> 21\u001b[0;31m \u001b[0mprint\u001b[0m\u001b[0;34m(\u001b[0m\u001b[0msum\u001b[0m\u001b[0;34m(\u001b[0m\u001b[0muni_size\u001b[0m\u001b[0;34m)\u001b[0m\u001b[0;34m/\u001b[0m\u001b[0muni_size\u001b[0m\u001b[0;34m.\u001b[0m\u001b[0msize\u001b[0m\u001b[0;34m(\u001b[0m\u001b[0;34m)\u001b[0m\u001b[0;34m)\u001b[0m\u001b[0;34m\u001b[0m\u001b[0;34m\u001b[0m\u001b[0m\n\u001b[0m",
      "\u001b[0;31mAttributeError\u001b[0m: 'list' object has no attribute 'size'"
     ]
    }
   ],
   "source": [
    "def load_data(filename):\n",
    "    Edge = {}\n",
    "    with open(filename,'r') as file:\n",
    "        for line in file:\n",
    "#             print( line[0:-1].split(\" \")[0:2])\n",
    "            n_id,e_id = line[0:-1].split(\" \")[0:2]\n",
    "            n_id = int(n_id)\n",
    "            e_id = int(e_id)\n",
    "            if Edge.get(e_id) == None: Edge[e_id] = set();\n",
    "            Edge[e_id].add(n_id)\n",
    "    return Edge\n",
    "\n",
    "Edge = load_data(\"../data/wiki_new.txt\")\n",
    "uni_size = []\n",
    "for e1,v1 in Edge.items():\n",
    "    for e2,v2 in Edge.items():\n",
    "        if e2 < e1 : continue\n",
    "        uni = v1 & v2\n",
    "        if len(uni) == 0 : continue\n",
    "        else : uni_size.append(len(uni)/min(len(v1),len(v2)))\n",
    "print(sum(uni_size)/len(uni_size))"
   ]
  },
  {
   "cell_type": "code",
   "execution_count": null,
   "id": "37c7eb14",
   "metadata": {},
   "outputs": [],
   "source": []
  }
 ],
 "metadata": {
  "hide_input": false,
  "kernelspec": {
   "display_name": "Python [conda env:.conda-mygraph]",
   "language": "python",
   "name": "conda-env-.conda-mygraph-py"
  },
  "language_info": {
   "codemirror_mode": {
    "name": "ipython",
    "version": 3
   },
   "file_extension": ".py",
   "mimetype": "text/x-python",
   "name": "python",
   "nbconvert_exporter": "python",
   "pygments_lexer": "ipython3",
   "version": "3.6.13"
  }
 },
 "nbformat": 4,
 "nbformat_minor": 5
}
