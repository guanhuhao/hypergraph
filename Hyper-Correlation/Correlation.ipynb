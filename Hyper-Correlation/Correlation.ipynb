{
 "cells": [
  {
   "cell_type": "code",
   "execution_count": 7,
   "id": "4d9065d5",
   "metadata": {},
   "outputs": [
    {
     "name": "stdout",
     "output_type": "stream",
     "text": [
      "0.1623969245078071\n"
     ]
    }
   ],
   "source": [
    "def load_data(filename):\n",
    "    Edge = {}\n",
    "    with open(filename,'r') as file:\n",
    "        for line in file:\n",
    "#             print( line[0:-1].split(\" \")[0:2])\n",
    "            n_id,e_id = line[0:-1].split(\" \")[0:2]\n",
    "            n_id = int(n_id)\n",
    "            e_id = int(e_id)\n",
    "            if Edge.get(e_id) == None: Edge[e_id] = set();\n",
    "            Edge[e_id].add(n_id)\n",
    "    return Edge\n",
    "\n",
    "Edge = load_data(\"../data/wiki_new.txt\")\n",
    "uni_size = []\n",
    "for e1,v1 in Edge.items():\n",
    "    for e2,v2 in Edge.items():\n",
    "        if e2 < e1 : continue\n",
    "        uni = v1 & v2\n",
    "        if len(uni) == 0 : continue\n",
    "        else : uni_size.append(len(uni)/min(len(v1),len(v2)))\n",
    "print(sum(uni_size)/len(uni_size))"
   ]
  },
  {
   "cell_type": "code",
   "execution_count": null,
   "id": "3e0cdac6",
   "metadata": {},
   "outputs": [],
   "source": [
    "def rand_hype"
   ]
  }
 ],
 "metadata": {
  "hide_input": false,
  "kernelspec": {
   "display_name": "Python [conda env:.conda-mygraph]",
   "language": "python",
   "name": "conda-env-.conda-mygraph-py"
  },
  "language_info": {
   "codemirror_mode": {
    "name": "ipython",
    "version": 3
   },
   "file_extension": ".py",
   "mimetype": "text/x-python",
   "name": "python",
   "nbconvert_exporter": "python",
   "pygments_lexer": "ipython3",
   "version": "3.6.13"
  }
 },
 "nbformat": 4,
 "nbformat_minor": 5
}
