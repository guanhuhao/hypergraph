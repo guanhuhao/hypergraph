{
 "cells": [
  {
   "cell_type": "code",
   "execution_count": 3,
   "id": "aebded91",
   "metadata": {},
   "outputs": [],
   "source": [
    "import networkx as nx\n",
    "dic = {}\n",
    "edges=[]\n",
    "hyper_node = {}\n",
    "index = 0\n",
    "write = open(\"./github.txt\",'w')\n",
    "with open(\"./out.github\") as f:\n",
    "    for line in f:\n",
    "        if(line[0] == '%' or line == \"\\n\") : continue\n",
    "        a,b = line[0:-2].split(' ')\n",
    "        a = int(a)\n",
    "        b = int(b)\n",
    "        write.write(str(a)+\" \"+str(b)+\"\\n\" )\n",
    "        if hyper_node.get(a) == None : hyper_node[a] = []\n",
    "        \n",
    "        hyper_node[a].append(b)\n",
    "        edges.append((a,b))\n",
    "#         break\n",
    "    "
   ]
  },
  {
   "cell_type": "code",
   "execution_count": 5,
   "id": "7e74be9a",
   "metadata": {},
   "outputs": [],
   "source": [
    "import random as rand\n",
    "import matplotlib.pyplot as plt # 画曲线图\n",
    "nodes = [i for i in hyper_node.keys()]\n",
    "rand.shuffle(nodes)\n",
    "with open(\"./vertex_stream_2.txt\",\"w\") as f:\n",
    "#     f.write(\"# node_id | number of coverd hyper edge| hyper edge id|\\n\\n\")\n",
    "    for i in nodes:\n",
    "        line = str(i)+\" \"+str(len(hyper_node[i]));\n",
    "        for edge in hyper_node[i]: line += \" \"+str(edge)\n",
    "        f.write(line+\"\\n\")\n",
    "# node_num = 10\n",
    "# check = {}\n",
    "# for i in range(index) : check[i] = 0\n",
    "# for i in range(0,node_num) : check[i] = 1\n",
    "\n",
    "# g = nx.DiGraph()\n",
    "# cnt = 0\n",
    "# print(\"begin\")\n",
    "# for i in edges:\n",
    "#     u,v = i\n",
    "#     if check[u] != 1 : continue\n",
    "#     if check[v] != 1 : continue\n",
    "#     g.add_edge(u,v)\n",
    "#     cnt += 1\n",
    "# print(\"finished \" +str(cnt))\n",
    "\n",
    "# fig, ax = plt.subplots()\n",
    "# nx.draw(g ,ax=ax)\n",
    "# plt.show()"
   ]
  },
  {
   "cell_type": "code",
   "execution_count": 8,
   "id": "1eacf726",
   "metadata": {},
   "outputs": [
    {
     "name": "stdout",
     "output_type": "stream",
     "text": [
      "440237\n",
      "56519\n"
     ]
    }
   ],
   "source": [
    "print(len(edges))\n",
    "print(len(hyper_node))"
   ]
  },
  {
   "cell_type": "code",
   "execution_count": 21,
   "id": "d22196c3",
   "metadata": {},
   "outputs": [
    {
     "data": {
      "text/plain": [
       "4587"
      ]
     },
     "execution_count": 21,
     "metadata": {},
     "output_type": "execute_result"
    }
   ],
   "source": [
    "cnt = 1\n",
    "for i in range(1,len(edges)):\n",
    "    if(edges[i-1][0] != edges[i][0]) : cnt += 1\n",
    "        \n",
    "cnt"
   ]
  },
  {
   "cell_type": "code",
   "execution_count": null,
   "id": "07ae21ca",
   "metadata": {},
   "outputs": [],
   "source": []
  }
 ],
 "metadata": {
  "hide_input": false,
  "kernelspec": {
   "display_name": "Mygraph",
   "language": "python",
   "name": "mygraph"
  },
  "language_info": {
   "codemirror_mode": {
    "name": "ipython",
    "version": 3
   },
   "file_extension": ".py",
   "mimetype": "text/x-python",
   "name": "python",
   "nbconvert_exporter": "python",
   "pygments_lexer": "ipython3",
   "version": "3.6.13"
  }
 },
 "nbformat": 4,
 "nbformat_minor": 5
}
