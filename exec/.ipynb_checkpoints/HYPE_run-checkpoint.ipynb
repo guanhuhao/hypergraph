{
 "cells": [
  {
   "cell_type": "code",
   "execution_count": 2,
   "id": "9fb25882",
   "metadata": {},
   "outputs": [
    {
     "name": "stdout",
     "output_type": "stream",
     "text": [
      "solving  out.actor-movie-swap.txt\n",
      "solving  out.dbpedia-location-swap.txt\n",
      "solving  wiki_new.txt-swap.txt\n",
      "solving  out.github-swap.txt\n",
      "solving  out.dblp-author-swap.txt\n",
      "solving  out.actor-movie\n",
      "solving  out.dbpedia-location\n",
      "solving  out.dbpedia-team\n",
      "solving  out.github\n",
      "solving  wiki_new.txt\n",
      "solving  out.dblp-author\n",
      "solving  out.dbpedia-team-swap.txt\n"
     ]
    }
   ],
   "source": [
    "import os \n",
    "import re\n",
    "\n",
    "data_path = os.getcwd()+\"/../data/\"\n",
    "os.system(\"rm \"+data_path+\"*partition*\")\n",
    "for file in os.listdir(data_path):\n",
    "    if re.match(\"(.*)ipynb(.*)\",file) != None : continue\n",
    "    if os.path.isdir(data_path+file) == True : continue\n",
    "    if re.match(\"(.*)orkut(.*)\",file) != None : continue\n",
    "    if re.match(\"(.*)tracker(.*)\",file) != None : continue\n",
    "    if re.match(\"(.*)rand(.*)\",file) != None : continue\n",
    "    \n",
    "    print(\"solving \",file)\n",
    "    \n",
    "    p = 1\n",
    "    while(p<64):\n",
    "        p *= 2\n",
    "        out_path = \"../simulation/test_data/\"+str(p)+\"/\"+file+\"/HYPE.txt\"\n",
    "#         if os.path.exists(out_path) : continue\n",
    "            \n",
    "        os.system(\"rm \"+data_path+\"*partition*\")\n",
    "        cmd = \"stdbuf -o0 ./HYPE -f bipartite -i \"+ data_path +file +\" -p \" + str(p) + \" -o\" +\" 1>./out.log\"\n",
    "        os.system(cmd)\n",
    "        result_file = open(out_path,\"w\")\n",
    "        result_file.close()\n",
    "        print(\"out file:\"+out_path)\n",
    "        \n",
    "        result_file = open(out_path,\"a\")\n",
    "        for outfile in os.listdir(data_path):\n",
    "            if re.match(\"(.*)_partition_(.*)\",outfile) == None : continue\n",
    "                    \n",
    "            name = re.match(\"(.*)_partition_(.*)\",outfile)[1]\n",
    "            p_id = re.match(\"(.*)_partition_(.*)\",outfile)[2]\n",
    "\n",
    "            print(\"solving \",name,\" \",p_id)\n",
    "            with open(data_path+\"/\"+outfile,\"r\") as f:\n",
    "                cnt = 0\n",
    "                for line in f:\n",
    "                    cnt += 1\n",
    "                    if cnt <= 2 : continue\n",
    "        #             print(line[0:-1]+\" \"+str(p_id))\n",
    "        #             result_file.write(str(p_id)+\"\\n\")\n",
    "                    result_file.write(line[0:-1]+\" \"+str(p_id)+\"\\n\")\n",
    "        #             print(\"ok\")\n",
    "        #             break\n",
    "        result_file.close()\n",
    "    "
   ]
  },
  {
   "cell_type": "code",
   "execution_count": null,
   "id": "04ecd4b9",
   "metadata": {},
   "outputs": [],
   "source": []
  }
 ],
 "metadata": {
  "hide_input": false,
  "kernelspec": {
   "display_name": "Python 3 (ipykernel)",
   "language": "python",
   "name": "python3"
  },
  "language_info": {
   "codemirror_mode": {
    "name": "ipython",
    "version": 3
   },
   "file_extension": ".py",
   "mimetype": "text/x-python",
   "name": "python",
   "nbconvert_exporter": "python",
   "pygments_lexer": "ipython3",
   "version": "3.10.10"
  }
 },
 "nbformat": 4,
 "nbformat_minor": 5
}
