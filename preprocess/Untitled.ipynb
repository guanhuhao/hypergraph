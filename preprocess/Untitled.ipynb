{
 "cells": [
  {
   "cell_type": "code",
   "execution_count": 4,
   "id": "e6c3e428",
   "metadata": {},
   "outputs": [
    {
     "name": "stdout",
     "output_type": "stream",
     "text": [
      "solving out.actor-movie-swap.txt\n",
      "solving out.dbpedia-location-swap.txt\n",
      "solving wiki_new.txt-swap.txt\n",
      "solving out.github-swap.txt\n",
      "solving out.actor-movie\n",
      "solving out.dbpedia-location\n",
      "solving out.dbpedia-team\n",
      "solving out.github\n",
      "solving wiki_new.txt\n",
      "solving out.dbpedia-team-swap.txt\n"
     ]
    }
   ],
   "source": [
    "import os\n",
    "import re\n",
    "cur_path = os.getcwd() #获取当前文件绝对路径\n",
    "Node = set()\n",
    "Edge = set()\n",
    "nodes = {}\n",
    "\n",
    "for file in os.listdir(cur_path):\n",
    "    if re.match(\"(.*).ipynb\",file) != None : continue\n",
    "    if re.match(\"(.*).orkut\",file) != None : continue\n",
    "    if re.match(\"(.*).tracker\",file) != None : continue\n",
    "    if re.match(\"(.*).author\",file) != None : continue\n",
    "    if re.match(\"(.*)rand\",file) != None : continue\n",
    "    if(os.path.isdir(file)) : continue\n",
    "    \n",
    "    with open(cur_path+\"/\"+file,\"r\") as f:\n",
    "        print(\"solving \"+file)\n",
    "        www = open(cur_path+\"/csv/\"+file+\".csv\",\"w\")\n",
    "        for line in f:\n",
    "            n,e = re.split(\" |\\t\",line[0:-1])[0:2];\n",
    "            www.write(n+\",\"+e+\"\\n\")\n",
    "        www.close()\n",
    "\n"
   ]
  },
  {
   "cell_type": "code",
   "execution_count": null,
   "id": "5e84edfe",
   "metadata": {},
   "outputs": [],
   "source": []
  }
 ],
 "metadata": {
  "hide_input": false,
  "kernelspec": {
   "display_name": "Mygraph",
   "language": "python",
   "name": "mygraph"
  },
  "language_info": {
   "codemirror_mode": {
    "name": "ipython",
    "version": 3
   },
   "file_extension": ".py",
   "mimetype": "text/x-python",
   "name": "python",
   "nbconvert_exporter": "python",
   "pygments_lexer": "ipython3",
   "version": "3.6.13"
  }
 },
 "nbformat": 4,
 "nbformat_minor": 5
}
