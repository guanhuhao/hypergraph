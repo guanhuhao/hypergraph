{
 "cells": [
  {
   "cell_type": "code",
   "execution_count": null,
   "id": "def15b11",
   "metadata": {},
   "outputs": [],
   "source": [
    "import os\n",
    "import re\n",
    "\n",
    "data_path = os.getcwd()+\"/../data/\"\n",
    "os.system(\"rm \"+data_path+\"*partition*\")\n",
    "for file in os.listdir(data_path):\n",
    "    if re.match(\"(.*)ipynb(.*)\",file) != None : continue\n",
    "    if os.path.isdir(data_path+file) == True : continue\n",
    "    if re.match(\"(.*)orkut(.*)\",file) != None : continue\n",
    "    if re.match(\"(.*)tracker(.*)\",file) != None : continue\n",
    "    if re.match(\"(.*)rand(.*)\",file) != None : continue\n",
    "        \n",
    "    print(\"solving \",file)"
   ]
  }
 ],
 "metadata": {
  "hide_input": false,
  "kernelspec": {
   "display_name": "Python 3 (ipykernel)",
   "language": "python",
   "name": "python3"
  },
  "language_info": {
   "codemirror_mode": {
    "name": "ipython",
    "version": 3
   },
   "file_extension": ".py",
   "mimetype": "text/x-python",
   "name": "python",
   "nbconvert_exporter": "python",
   "pygments_lexer": "ipython3",
   "version": "3.10.9"
  }
 },
 "nbformat": 4,
 "nbformat_minor": 5
}
