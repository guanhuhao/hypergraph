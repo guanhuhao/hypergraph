{
 "cells": [
  {
   "cell_type": "code",
   "execution_count": 6,
   "id": "f19057a2",
   "metadata": {
    "scrolled": true
   },
   "outputs": [
    {
     "name": "stdout",
     "output_type": "stream",
     "text": [
      "solving  out.actor-movie-swap.txt\n",
      "solving  out.dbpedia-location-swap.txt\n",
      "solving  wiki_new.txt-swap.txt\n",
      "solving  out.github-swap.txt\n",
      "solving  out.actor-movie\n",
      "solving  out.dbpedia-location\n",
      "solving  out.dbpedia-team\n",
      "solving  out.github\n",
      "solving  wiki_new.txt\n",
      "solving  out.dbpedia-team-swap.txt\n"
     ]
    }
   ],
   "source": [
    "import os\n",
    "import re\n",
    "cur_path = os.getcwd() #获取当前文件绝对路径\n",
    "Node = set()\n",
    "Edge = set()\n",
    "nodes = {}\n",
    "\n",
    "for file in os.listdir(cur_path):\n",
    "    if re.match(\"(.*).ipynb\",file) != None : continue\n",
    "    if re.match(\"(.*).orkut\",file) != None : continue\n",
    "    if re.match(\"(.*).tracker\",file) != None : continue\n",
    "    if re.match(\"(.*).author\",file) != None : continue\n",
    "    if re.match(\"(.*)rand\",file) != None : continue\n",
    "    if(os.path.isdir(file)) : continue\n",
    "    Node = set()\n",
    "    Edge = set()\n",
    "    edges = {}\n",
    "    print(\"solving \",file)\n",
    "    dic_n = {}\n",
    "    dic_e = {}\n",
    "    with open(cur_path+\"/\"+file,\"r\") as f:\n",
    "        for line in f:\n",
    "#             print(line)\n",
    "            n,e = re.split(\" |\\t\",line[0:-1])[0:2];\n",
    "            if dic_n.get(n) == None : dic_n[n] = len(dic_n) + 1\n",
    "            if dic_e.get(e) == None : dic_e[e] = len(dic_e) + 1\n",
    "            u = dic_n[n]\n",
    "            v = dic_e[e]\n",
    "            Node.add(u)\n",
    "            Edge.add(v)\n",
    "            if edges.get(v) == None : edges[v] = []\n",
    "            edges[v].append(u)\n",
    "    with open(cur_path+\"/klevel/\"+file+\"-klevel\",\"w\") as f:\n",
    "        f.write(str(len(dic_e))+\" \"+str(len(dic_n))+\"\\n\")\n",
    "        for i in edges.keys():\n",
    "#             print(i)\n",
    "#             print(nodes[i])\n",
    "            if edges.get(i) == None : \n",
    "                # print(123)\n",
    "                f.write(\"1\\n\")\n",
    "                continue\n",
    "            for j in range(len(edges[i])):\n",
    "                if j!=0: f.write(\" \"+str(edges[i][j]))\n",
    "                else : f.write(str(edges[i][j]))\n",
    "            f.write(\"\\n\")"
   ]
  },
  {
   "cell_type": "code",
   "execution_count": null,
   "id": "2f311690",
   "metadata": {},
   "outputs": [],
   "source": []
  }
 ],
 "metadata": {
  "hide_input": false,
  "kernelspec": {
   "display_name": "Mygraph",
   "language": "python",
   "name": "mygraph"
  },
  "language_info": {
   "codemirror_mode": {
    "name": "ipython",
    "version": 3
   },
   "file_extension": ".py",
   "mimetype": "text/x-python",
   "name": "python",
   "nbconvert_exporter": "python",
   "pygments_lexer": "ipython3",
   "version": "3.6.13"
  }
 },
 "nbformat": 4,
 "nbformat_minor": 5
}
