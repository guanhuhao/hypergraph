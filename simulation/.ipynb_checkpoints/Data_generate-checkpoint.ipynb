{
 "cells": [
  {
   "cell_type": "code",
   "execution_count": 12,
   "id": "5277fb73",
   "metadata": {},
   "outputs": [],
   "source": [
    "filename = \"../data/github/github.txt\"\n",
    "HyperVertex = {}\n",
    "HyperEdge = {}\n",
    "with open(filename) as file:\n",
    "    for line in file:\n",
    "        v_id,e_id = line[0:-1].split(\" \")[0:2]\n",
    "        v_id = int(v_id)\n",
    "        e_id = int(e_id)\n",
    "        if e_id not in HyperEdge:\n",
    "            HyperEdge[e_id] = []\n",
    "        if v_id not in HyperVertex:\n",
    "            HyperVertex[v_id] = []\n",
    "        HyperEdge[e_id].append(v_id)\n",
    "        HyperVertex[v_id].append(e_id)\n"
   ]
  },
  {
   "cell_type": "code",
   "execution_count": 21,
   "id": "6273cab9",
   "metadata": {},
   "outputs": [],
   "source": [
    "with open(\"./test_data/github_vertex_info.txt\",\"w\") as file:\n",
    "    for v_id,edges in HyperVertex.items():\n",
    "        file.write(str(v_id))\n",
    "        for edge in edges:\n",
    "            file.write(\" \"+str(edge))\n",
    "        file.write(\"\\n\")\n",
    "\n",
    "with open(\"./test_data/github_edge_info.txt\",\"w\") as file:\n",
    "    for e_id,vertexs in HyperEdge.items():\n",
    "        file.write(str(e_id))\n",
    "        for vertex in vertexs:\n",
    "            file.write(\" \"+str(vertex))\n",
    "        file.write(\"\\n\")"
   ]
  },
  {
   "cell_type": "code",
   "execution_count": null,
   "id": "1ab93ff7",
   "metadata": {},
   "outputs": [],
   "source": []
  },
  {
   "cell_type": "code",
   "execution_count": null,
   "id": "3afcedab",
   "metadata": {},
   "outputs": [],
   "source": []
  }
 ],
 "metadata": {
  "hide_input": false,
  "kernelspec": {
   "display_name": "Python 3 (ipykernel)",
   "language": "python",
   "name": "python3"
  },
  "language_info": {
   "codemirror_mode": {
    "name": "ipython",
    "version": 3
   },
   "file_extension": ".py",
   "mimetype": "text/x-python",
   "name": "python",
   "nbconvert_exporter": "python",
   "pygments_lexer": "ipython3",
   "version": "3.9.7"
  }
 },
 "nbformat": 4,
 "nbformat_minor": 5
}
