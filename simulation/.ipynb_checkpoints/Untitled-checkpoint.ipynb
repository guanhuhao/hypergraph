{
 "cells": [
  {
   "cell_type": "code",
   "execution_count": null,
   "id": "d9ad6571",
   "metadata": {},
   "outputs": [],
   "source": [
    "INF = 1e9\n",
    "class HyperNode:\n",
    "    def __init_(self,n_id):\n",
    "        self.n_id = n_id\n",
    "        self.dist = INF \n",
    "        self.edge = []\n",
    "        \n",
    "    def add_edge(self,edge):\n",
    "        self.edge.append(edge)\n",
    "        \n",
    "    def GetHyperEdges():\n",
    "        return self.edge\n",
    "    \n",
    "    def GetValue(self):\n",
    "        return self.dist\n",
    "    \n",
    "    def compute(self,msgs):\n",
    "        if IsSource(self.v_id) : mindist = 0\n",
    "        else : mindist = INF \n",
    "        mindist = min(msgs)\n",
    "        if mindist < self.dist : \n",
    "            self.dist = mindist\n",
    "            for hyperEdge in self.GetHyperEdges():\n",
    "                for neibor in hyperEdge.GetHyperNodes():\n",
    "                    SendMessageTo(neibor,mindist+hyperEdge.getValue())\n",
    "class HyperEdge:\n",
    "    "
   ]
  }
 ],
 "metadata": {
  "hide_input": false,
  "kernelspec": {
   "display_name": "Mygraph",
   "language": "python",
   "name": "mygraph"
  },
  "language_info": {
   "codemirror_mode": {
    "name": "ipython",
    "version": 3
   },
   "file_extension": ".py",
   "mimetype": "text/x-python",
   "name": "python",
   "nbconvert_exporter": "python",
   "pygments_lexer": "ipython3",
   "version": "3.6.13"
  }
 },
 "nbformat": 4,
 "nbformat_minor": 5
}
