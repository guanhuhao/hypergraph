{
 "cells": [
  {
   "cell_type": "code",
   "execution_count": null,
   "id": "d9ad6571",
   "metadata": {},
   "outputs": [],
   "source": [
    "class Node:\n",
    "    def compute():\n",
    "        "
   ]
  }
 ],
 "metadata": {
  "hide_input": false,
  "kernelspec": {
   "display_name": "Mygraph",
   "language": "python",
   "name": "mygraph"
  },
  "language_info": {
   "codemirror_mode": {
    "name": "ipython",
    "version": 3
   },
   "file_extension": ".py",
   "mimetype": "text/x-python",
   "name": "python",
   "nbconvert_exporter": "python",
   "pygments_lexer": "ipython3",
   "version": "3.6.13"
  }
 },
 "nbformat": 4,
 "nbformat_minor": 5
}
