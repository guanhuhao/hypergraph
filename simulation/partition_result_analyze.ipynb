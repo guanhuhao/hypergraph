{
 "cells": [
  {
   "cell_type": "code",
   "execution_count": 6,
   "id": "e5681b54",
   "metadata": {},
   "outputs": [
    {
     "name": "stdout",
     "output_type": "stream",
     "text": [
      "method: basic.txt  k-1 metric: 2905\n"
     ]
    },
    {
     "ename": "FileNotFoundError",
     "evalue": "[Errno 2] No such file or directory: '/home/guan/Desktop/hypergraph/simulation/test_data/2/wiki_new.txt/anti_basic.txt'",
     "output_type": "error",
     "traceback": [
      "\u001b[0;31m---------------------------------------------------------------------------\u001b[0m",
      "\u001b[0;31mFileNotFoundError\u001b[0m                         Traceback (most recent call last)",
      "\u001b[0;32m<ipython-input-6-fe1fdf99497f>\u001b[0m in \u001b[0;36m<module>\u001b[0;34m\u001b[0m\n\u001b[1;32m     26\u001b[0m             \u001b[0mHyperEdge\u001b[0m\u001b[0;34m[\u001b[0m\u001b[0mtmp\u001b[0m\u001b[0;34m[\u001b[0m\u001b[0;36m0\u001b[0m\u001b[0;34m]\u001b[0m\u001b[0;34m]\u001b[0m \u001b[0;34m=\u001b[0m \u001b[0mtmp\u001b[0m\u001b[0;34m[\u001b[0m\u001b[0;36m1\u001b[0m\u001b[0;34m:\u001b[0m\u001b[0;34m-\u001b[0m\u001b[0;36m1\u001b[0m\u001b[0;34m]\u001b[0m\u001b[0;34m\u001b[0m\u001b[0m\n\u001b[1;32m     27\u001b[0m \u001b[0;34m\u001b[0m\u001b[0m\n\u001b[0;32m---> 28\u001b[0;31m     \u001b[0;32mwith\u001b[0m \u001b[0mopen\u001b[0m\u001b[0;34m(\u001b[0m\u001b[0mp_path\u001b[0m\u001b[0;34m,\u001b[0m\u001b[0;34m\"r\"\u001b[0m\u001b[0;34m)\u001b[0m  \u001b[0;32mas\u001b[0m \u001b[0mf\u001b[0m\u001b[0;34m:\u001b[0m\u001b[0;34m\u001b[0m\u001b[0m\n\u001b[0m\u001b[1;32m     29\u001b[0m         \u001b[0;32mfor\u001b[0m \u001b[0mline\u001b[0m \u001b[0;32min\u001b[0m \u001b[0mf\u001b[0m\u001b[0;34m:\u001b[0m\u001b[0;34m\u001b[0m\u001b[0m\n\u001b[1;32m     30\u001b[0m             \u001b[0mtmp\u001b[0m \u001b[0;34m=\u001b[0m \u001b[0;34m[\u001b[0m\u001b[0mint\u001b[0m\u001b[0;34m(\u001b[0m\u001b[0mi\u001b[0m\u001b[0;34m)\u001b[0m \u001b[0;32mfor\u001b[0m \u001b[0mi\u001b[0m \u001b[0;32min\u001b[0m \u001b[0mline\u001b[0m\u001b[0;34m[\u001b[0m\u001b[0;36m0\u001b[0m\u001b[0;34m:\u001b[0m\u001b[0;34m-\u001b[0m\u001b[0;36m1\u001b[0m\u001b[0;34m]\u001b[0m\u001b[0;34m.\u001b[0m\u001b[0msplit\u001b[0m\u001b[0;34m(\u001b[0m\u001b[0;34m\" \"\u001b[0m\u001b[0;34m)\u001b[0m\u001b[0;34m]\u001b[0m\u001b[0;34m\u001b[0m\u001b[0m\n",
      "\u001b[0;31mFileNotFoundError\u001b[0m: [Errno 2] No such file or directory: '/home/guan/Desktop/hypergraph/simulation/test_data/2/wiki_new.txt/anti_basic.txt'"
     ]
    }
   ],
   "source": [
    "import os\n",
    "import re\n",
    "\n",
    "data_path = os.getcwd()+\"/test_data/\"\n",
    "p = 2\n",
    "method_list = [\"basic.txt\",\"anti_basic.txt\",\"entropy.txt\",\"HYPE.txt\",\"MinMax.txt\"]\n",
    "\n",
    "for method in method_list:\n",
    "#     method = \"basic.txt\"\n",
    "    dataset = \"wiki_new.txt\"\n",
    "\n",
    "    HyperVertex = {}\n",
    "    HyperEdge = {}\n",
    "    Partition = {}\n",
    "    v_path = data_path + str(p) + \"/\" + dataset + \"/vertex_info.txt\"\n",
    "    e_path = data_path + str(p) + \"/\" + dataset + \"/edge_info.txt\"\n",
    "    p_path = data_path + str(p) + \"/\" + dataset + \"/\" + method\n",
    "    with open(v_path,\"r\") as f:\n",
    "        for line in f:\n",
    "            tmp = [int(i) for i in line[0:-1].split(\" \")]\n",
    "            HyperVertex[tmp[0]] = tmp[1:-1]\n",
    "\n",
    "    with open(e_path,\"r\") as f:\n",
    "        for line in f:\n",
    "            tmp = [int(i) for i in line[0:-1].split(\" \")]\n",
    "            HyperEdge[tmp[0]] = tmp[1:-1]\n",
    "\n",
    "    with open(p_path,\"r\")  as f:\n",
    "        for line in f:\n",
    "            tmp = [int(i) for i in line[0:-1].split(\" \")]\n",
    "            v_id = tmp[0]\n",
    "            p_id = tmp[1]\n",
    "            Partition[v_id] = p_id\n",
    "\n",
    "    part_edge = {}\n",
    "    for i in range(p) : part_edge[i] = set()\n",
    "    for v_id, edges in HyperVertex.items():\n",
    "        for e_id in edges:\n",
    "            part_edge[Partition[v_id]].add(e_id)\n",
    "\n",
    "    # print(part_edge)\n",
    "    print(\"method:\",method,\" k-1 metric:\",sum([len(part) for part in part_edge.values()]) - len(HyperEdge))\n",
    "    \n",
    "        \n",
    "    \n",
    "# with open()\n",
    "# for file in os.listdir(data_path):\n",
    "#     if re.match(\"(.*)ipynb(.*)\",file) != None : continue\n",
    "#     if os.path.isdir(data_path+file) == True : continue\n",
    "#     if re.match(\"(.*)orkut(.*)\",file) != None : continue\n",
    "#     if re.match(\"(.*)tracker(.*)\",file) != None : continue\n",
    "#     if re.match(\"(.*)rand(.*)\",file) != None : continue\n",
    "\n",
    "#     print(\"solving \",file)\n",
    "\n",
    "#     p = 1\n",
    "#     while(p<64):\n",
    "#         p *= 2\n",
    "#         out_path = \"../simulation/test_data/\"+str(p)+\"/\"+file+\"/HYPE.txt\"\n",
    "# #         if os.path.exists(out_path) : continue\n"
   ]
  },
  {
   "cell_type": "code",
   "execution_count": null,
   "id": "f72ca864",
   "metadata": {},
   "outputs": [],
   "source": []
  }
 ],
 "metadata": {
  "hide_input": false,
  "kernelspec": {
   "display_name": "GraphRNN",
   "language": "python",
   "name": "graphrnn"
  },
  "language_info": {
   "codemirror_mode": {
    "name": "ipython",
    "version": 3
   },
   "file_extension": ".py",
   "mimetype": "text/x-python",
   "name": "python",
   "nbconvert_exporter": "python",
   "pygments_lexer": "ipython3",
   "version": "3.6.2"
  }
 },
 "nbformat": 4,
 "nbformat_minor": 5
}
